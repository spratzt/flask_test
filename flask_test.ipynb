{
 "cells": [
  {
   "cell_type": "code",
   "execution_count": null,
   "metadata": {},
   "outputs": [],
   "source": [
    "from flask import Flask, request,render_template\n",
    "import math\n",
    "import random\n",
    "import datetime\n",
    "import time\n",
    "import sqlite3 as sl3\n",
    "import pandas as pd\n",
    "import matplotlib.pyplot as plt\n",
    "plt.style.use('ggplot')\n",
    "plt.rcParams[\"figure.figsize\"] = (10, 4)"
   ]
  },
  {
   "cell_type": "code",
   "execution_count": null,
   "metadata": {},
   "outputs": [],
   "source": [
    "app = Flask(__name__)\n",
    "\n",
    "\n",
    "@app.route(\"/\") # Initial Splash Screen\n",
    "def splash():\n",
    "    conn = sl3.connect('fash.db')\n",
    "    cur = conn.cursor()\n",
    "    cur.execute('drop table if exists logfile')\n",
    "    cur.execute('CREATE TABLE logfile(timestamp,ip_address char(20),designer char(30))')    \n",
    "    return render_template('index.html')  \n",
    "\n",
    "\n",
    "@app.route('/query')\n",
    "def query():    \n",
    "    conn = sl3.connect('fash.db')\n",
    "    cur = conn.cursor()\n",
    "    d_name = str(request.args.get('designers')) #, default = 1, type = int)    \n",
    "    timestamp = datetime.datetime.now()\n",
    "    qry1 = 'INSERT  INTO  logfile(timestamp,ip_address,designer) VALUES(?,?,?)'\n",
    "    cur.execute(qry1,(timestamp,'2345',d_name))\n",
    "    conn.commit()\n",
    "    cur = conn.cursor()    \n",
    "    d_name = str(request.args.get('designers')) #, default = 1, type = int)\n",
    "    data_tuple = 15.0,d_name\n",
    "    qry = ' SELECT designer, product,  COUNT(number)  AS total \\\n",
    "               FROM factdata  \\\n",
    "               WHERE  price > ?  and designer = ?   \\\n",
    "               GROUP BY  product  \\\n",
    "               ORDER BY total DESC, product, price '\n",
    "    rows = cur.execute(qry,data_tuple)\n",
    "    rowx = rows.fetchall()\n",
    "   \n",
    "    return render_template('response.html',row = rowx)\n",
    "\n",
    "\n",
    "    \n",
    "    \n",
    "if __name__ == \"__main__\":\n",
    "           app.run()           \n",
    "            "
   ]
  },
  {
   "cell_type": "code",
   "execution_count": null,
   "metadata": {},
   "outputs": [],
   "source": [
    "\n"
   ]
  },
  {
   "cell_type": "code",
   "execution_count": null,
   "metadata": {},
   "outputs": [],
   "source": []
  }
 ],
 "metadata": {
  "kernelspec": {
   "display_name": "Python 3.10.4 64-bit",
   "language": "python",
   "name": "python3"
  },
  "language_info": {
   "codemirror_mode": {
    "name": "ipython",
    "version": 3
   },
   "file_extension": ".py",
   "mimetype": "text/x-python",
   "name": "python",
   "nbconvert_exporter": "python",
   "pygments_lexer": "ipython3",
   "version": "3.10.4"
  },
  "vscode": {
   "interpreter": {
    "hash": "3ad933181bd8a04b432d3370b9dc3b0662ad032c4dfaa4e4f1596c548f763858"
   }
  },
  "widgets": {
   "application/vnd.jupyter.widget-state+json": {
    "state": {},
    "version_major": 2,
    "version_minor": 0
   }
  }
 },
 "nbformat": 4,
 "nbformat_minor": 4
}
